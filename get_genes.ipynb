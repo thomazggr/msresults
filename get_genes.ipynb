{
 "cells": [
  {
   "cell_type": "code",
   "execution_count": null,
   "metadata": {},
   "outputs": [],
   "source": [
    "import pandas as pd"
   ]
  },
  {
   "cell_type": "code",
   "execution_count": null,
   "metadata": {},
   "outputs": [],
   "source": [
    "gse_33814 = pd.read_csv(\"automated_results/GSE33814/GSE33814.tsv\", sep=\"\\t\")\n",
    "#print(gse_33814.columns)\n",
    "gse_33814_cols = gse_33814[[\"Gene.symbol\", \"logFC\", \"P.Value\", \"adj.P.Val\"]]\n",
    "print(gse_33814_cols.head())"
   ]
  },
  {
   "cell_type": "code",
   "execution_count": null,
   "metadata": {},
   "outputs": [],
   "source": [
    "gse_37031 = pd.read_csv(\"automated_results/GSE37031/GSE37031.tsv\", sep=\"\\t\")\n",
    "#print(gse_37031.columns)\n",
    "gse_37031_cols = gse_37031[[\"ID\", \"SPOT_ID\", \"logFC\", \"P.Value\", \"adj.P.Val\"]]\n",
    "print(gse_37031_cols.head())"
   ]
  },
  {
   "cell_type": "code",
   "execution_count": null,
   "metadata": {},
   "outputs": [],
   "source": [
    "gse_48452 = pd.read_csv(\"automated_results/GSE48452/GSE48452.tsv\", sep=\"\\t\")\n",
    "#print(gse_48452.columns)\n",
    "gse_48452_cols = gse_48452[[\"Gene.symbol\", \"logFC\", \"P.Value\", \"adj.P.Val\"]]\n",
    "print(gse_48452_cols.head())"
   ]
  },
  {
   "cell_type": "code",
   "execution_count": null,
   "metadata": {},
   "outputs": [],
   "source": [
    "gse_63067 = pd.read_csv(\"automated_results/GSE63067/GSE63067.tsv\", sep=\"\\t\")\n",
    "#print(gse_63067.columns)\n",
    "gse_63067_cols = gse_63067[[\"Gene.symbol\", \"logFC\", \"P.Value\", \"adj.P.Val\"]]\n",
    "print(gse_63067_cols.head())"
   ]
  },
  {
   "cell_type": "code",
   "execution_count": null,
   "metadata": {},
   "outputs": [],
   "source": [
    "gse_89632 = pd.read_csv(\"automated_results/GSE89632/GSE89632.tsv\", sep=\"\\t\")\n",
    "#print(gse_89632.columns)\n",
    "gse_89632_cols = gse_89632[[\"Symbol\", \"logFC\", \"P.Value\", \"adj.P.Val\"]]\n",
    "print(gse_89632_cols.head())"
   ]
  },
  {
   "cell_type": "code",
   "execution_count": null,
   "metadata": {},
   "outputs": [],
   "source": []
  }
 ],
 "metadata": {
  "interpreter": {
   "hash": "bd7d35dfc7854c1f426b2e919e8ef2e967b2253a2693ad30572beca6ec3bd741"
  },
  "kernelspec": {
   "display_name": "Python 3.10.4 ('masters')",
   "language": "python",
   "name": "python3"
  },
  "language_info": {
   "codemirror_mode": {
    "name": "ipython",
    "version": 3
   },
   "file_extension": ".py",
   "mimetype": "text/x-python",
   "name": "python",
   "nbconvert_exporter": "python",
   "pygments_lexer": "ipython3",
   "version": "3.10.4"
  },
  "orig_nbformat": 4
 },
 "nbformat": 4,
 "nbformat_minor": 2
}
